{
  "nbformat": 4,
  "nbformat_minor": 0,
  "metadata": {
    "colab": {
      "provenance": [],
      "gpuType": "T4",
      "authorship_tag": "ABX9TyP81s4VbPW0SF5yBYGidFgL",
      "include_colab_link": true
    },
    "kernelspec": {
      "name": "python3",
      "display_name": "Python 3"
    },
    "language_info": {
      "name": "python"
    },
    "accelerator": "GPU"
  },
  "cells": [
    {
      "cell_type": "markdown",
      "metadata": {
        "id": "view-in-github",
        "colab_type": "text"
      },
      "source": [
        "<a href=\"https://colab.research.google.com/github/neerajgoud23/Triton-CUDA/blob/main/Day_1_(Triton_Vector_ADD).ipynb\" target=\"_parent\"><img src=\"https://colab.research.google.com/assets/colab-badge.svg\" alt=\"Open In Colab\"/></a>"
      ]
    },
    {
      "cell_type": "code",
      "execution_count": 2,
      "metadata": {
        "colab": {
          "base_uri": "https://localhost:8080/"
        },
        "id": "pm-DY3rZZ9J1",
        "outputId": "92b14c83-abd6-4041-96ed-0d801a3065a2"
      },
      "outputs": [
        {
          "output_type": "stream",
          "name": "stdout",
          "text": [
            "Requirement already satisfied: triton in /usr/local/lib/python3.11/dist-packages (3.1.0)\n",
            "Requirement already satisfied: filelock in /usr/local/lib/python3.11/dist-packages (from triton) (3.17.0)\n"
          ]
        }
      ],
      "source": [
        "pip install triton\n"
      ]
    },
    {
      "cell_type": "code",
      "source": [
        "import torch"
      ],
      "metadata": {
        "id": "vV5CJJuDaNng"
      },
      "execution_count": 3,
      "outputs": []
    },
    {
      "cell_type": "code",
      "source": [
        "import triton\n",
        "import triton.language as tl"
      ],
      "metadata": {
        "id": "qShzUXK_aU_t"
      },
      "execution_count": 5,
      "outputs": []
    },
    {
      "cell_type": "code",
      "source": [
        "@triton.jit\n",
        "def add_kernel(x_ptr,y_ptr,output_ptr,n_elements, BLOCK_SIZE: tl.constexpr):\n",
        "  pid = tl.program_id(axis=0)\n",
        "  block_start = pid*BLOCK_SIZE\n",
        "  offsets = block_start +  tl.arange(0,BLOCK_SIZE)\n",
        "  mask = offsets < n_elements\n",
        "  x_val = tl.load(x_ptr + offsets,mask=mask)\n",
        "  y_val = tl.load(y_ptr + offsets , mask=mask )\n",
        "  output = x_val + y_val\n",
        "  tl.store(output_ptr + offsets,output,mask=mask)"
      ],
      "metadata": {
        "id": "kChNP84bacJk"
      },
      "execution_count": 12,
      "outputs": []
    },
    {
      "cell_type": "code",
      "source": [
        "def add(x:torch.Tensor , y:torch.tensor):\n",
        "  output = torch.empty_like(x)\n",
        "  assert x.is_cuda and y.is_cuda and output.is_cuda\n",
        "  n_elements = output.numel()\n",
        "  BLOCK_SIZE = 1024\n",
        "  grid = lambda meta : (triton.cdiv(n_elements , BLOCK_SIZE),)\n",
        "  add_kernel[grid](x,y,output,n_elements,BLOCK_SIZE= BLOCK_SIZE)\n",
        "  return output\n",
        ""
      ],
      "metadata": {
        "id": "reyAaWfWcJv4"
      },
      "execution_count": 15,
      "outputs": []
    },
    {
      "cell_type": "code",
      "source": [
        "x = torch.rand(98432,device='cuda')\n",
        "y = torch.rand(98432,device='cuda')\n",
        "\n",
        "output = add(x,y)\n",
        "print(output)"
      ],
      "metadata": {
        "colab": {
          "base_uri": "https://localhost:8080/"
        },
        "id": "12C3hUzxdOfg",
        "outputId": "a9dba0c8-d3b9-4d93-db22-edbe0c9a29de"
      },
      "execution_count": 16,
      "outputs": [
        {
          "output_type": "stream",
          "name": "stdout",
          "text": [
            "tensor([1.0365, 0.9815, 0.8651,  ..., 0.1581, 1.4386, 0.7042], device='cuda:0')\n"
          ]
        }
      ]
    }
  ]
}